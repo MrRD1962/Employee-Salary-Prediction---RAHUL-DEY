{
  "cells": [
    {
      "cell_type": "markdown",
      "metadata": {
        "id": "view-in-github",
        "colab_type": "text"
      },
      "source": [
        "<a href=\"https://colab.research.google.com/github/MrRD1962/Employee-Salary-Prediction---RAHUL-DEY/blob/main/Employee_Salary_Prediction(Name_Rahul_Dey)_.ipynb\" target=\"_parent\"><img src=\"https://colab.research.google.com/assets/colab-badge.svg\" alt=\"Open In Colab\"/></a>"
      ]
    },
    {
      "cell_type": "code",
      "execution_count": 1,
      "metadata": {
        "id": "tHJ3xkRvUSCS"
      },
      "outputs": [],
      "source": [
        "import pandas as pd\n",
        "import numpy as np\n",
        "from sklearn.model_selection import train_test_split, GridSearchCV, RandomizedSearchCV\n",
        "from sklearn.preprocessing import StandardScaler, LabelEncoder, OneHotEncoder\n",
        "from sklearn.compose import ColumnTransformer\n",
        "from sklearn.pipeline import Pipeline\n",
        "from sklearn.linear_model import LogisticRegression\n",
        "from sklearn.ensemble import RandomForestClassifier, GradientBoostingClassifier\n",
        "from sklearn.metrics import accuracy_score, precision_score, recall_score, f1_score, roc_auc_score, confusion_matrix, classification_report\n",
        "import matplotlib.pyplot as plt\n",
        "import seaborn as sns\n",
        "import warnings\n",
        "from sklearn.linear_model import LinearRegression\n",
        "from sklearn.tree import DecisionTreeRegressor\n",
        "from sklearn.svm import SVR\n",
        "from sklearn.neighbors import KNeighborsRegressor\n",
        "from sklearn.metrics import mean_absolute_error, mean_squared_error, r2_score\n",
        "from sklearn.preprocessing import StandardScaler, OneHotEncoder\n",
        "from sklearn.ensemble import RandomForestRegressor, GradientBoostingRegressor\n",
        "import joblib"
      ]
    },
    {
      "cell_type": "code",
      "execution_count": 2,
      "metadata": {
        "id": "vfPausT_Uxu2"
      },
      "outputs": [],
      "source": [
        "warnings.filterwarnings('ignore')\n"
      ]
    },
    {
      "cell_type": "code",
      "execution_count": 3,
      "metadata": {
        "colab": {
          "base_uri": "https://localhost:8080/"
        },
        "id": "iyo3raYsU4ov",
        "outputId": "e4b54e6e-5c94-4f96-cfe5-5ea0e59b5e7f"
      },
      "outputs": [
        {
          "output_type": "stream",
          "name": "stdout",
          "text": [
            "Data loaded successfully!\n"
          ]
        }
      ],
      "source": [
        "try:\n",
        "    df = pd.read_csv('/content/adult 3.csv')\n",
        "    print(\"Data loaded successfully!\")\n",
        "except FileNotFoundError:\n",
        "    print(\"Error: '/content/adult 3.csv' not found. Please ensure the file path is correct.\")\n",
        "    exit()\n"
      ]
    },
    {
      "cell_type": "code",
      "execution_count": 4,
      "metadata": {
        "colab": {
          "base_uri": "https://localhost:8080/"
        },
        "id": "72gyGdNBVNmZ",
        "outputId": "90b704ad-ffb8-49a8-ca43-c7e05c92da5f"
      },
      "outputs": [
        {
          "output_type": "stream",
          "name": "stdout",
          "text": [
            "\n",
            "--- Initial Data Info ---\n",
            "<class 'pandas.core.frame.DataFrame'>\n",
            "RangeIndex: 48842 entries, 0 to 48841\n",
            "Data columns (total 15 columns):\n",
            " #   Column           Non-Null Count  Dtype \n",
            "---  ------           --------------  ----- \n",
            " 0   age              48842 non-null  int64 \n",
            " 1   workclass        48842 non-null  object\n",
            " 2   fnlwgt           48842 non-null  int64 \n",
            " 3   education        48842 non-null  object\n",
            " 4   educational-num  48842 non-null  int64 \n",
            " 5   marital-status   48842 non-null  object\n",
            " 6   occupation       48842 non-null  object\n",
            " 7   relationship     48842 non-null  object\n",
            " 8   race             48842 non-null  object\n",
            " 9   gender           48842 non-null  object\n",
            " 10  capital-gain     48842 non-null  int64 \n",
            " 11  capital-loss     48842 non-null  int64 \n",
            " 12  hours-per-week   48842 non-null  int64 \n",
            " 13  native-country   48842 non-null  object\n",
            " 14  income           48842 non-null  object\n",
            "dtypes: int64(6), object(9)\n",
            "memory usage: 5.6+ MB\n",
            "\n",
            "--- First 5 Rows ---\n",
            "   age  workclass  fnlwgt     education  educational-num      marital-status  \\\n",
            "0   25    Private  226802          11th                7       Never-married   \n",
            "1   38    Private   89814       HS-grad                9  Married-civ-spouse   \n",
            "2   28  Local-gov  336951    Assoc-acdm               12  Married-civ-spouse   \n",
            "3   44    Private  160323  Some-college               10  Married-civ-spouse   \n",
            "4   18          ?  103497  Some-college               10       Never-married   \n",
            "\n",
            "          occupation relationship   race  gender  capital-gain  capital-loss  \\\n",
            "0  Machine-op-inspct    Own-child  Black    Male             0             0   \n",
            "1    Farming-fishing      Husband  White    Male             0             0   \n",
            "2    Protective-serv      Husband  White    Male             0             0   \n",
            "3  Machine-op-inspct      Husband  Black    Male          7688             0   \n",
            "4                  ?    Own-child  White  Female             0             0   \n",
            "\n",
            "   hours-per-week native-country income  \n",
            "0              40  United-States  <=50K  \n",
            "1              50  United-States  <=50K  \n",
            "2              40  United-States   >50K  \n",
            "3              40  United-States   >50K  \n",
            "4              30  United-States  <=50K  \n"
          ]
        }
      ],
      "source": [
        "print(\"\\n--- Initial Data Info ---\")\n",
        "df.info()\n",
        "\n",
        "print(\"\\n--- First 5 Rows ---\")\n",
        "print(df.head())"
      ]
    },
    {
      "cell_type": "code",
      "execution_count": 5,
      "metadata": {
        "id": "zoThK470VbN8"
      },
      "outputs": [],
      "source": [
        "df.replace('?', np.nan, inplace=True)"
      ]
    },
    {
      "cell_type": "code",
      "execution_count": 6,
      "metadata": {
        "colab": {
          "base_uri": "https://localhost:8080/"
        },
        "id": "DjqUJW3sVjxU",
        "outputId": "eaed60b4-dfc1-4a70-8cce-3251739f9522"
      },
      "outputs": [
        {
          "output_type": "stream",
          "name": "stdout",
          "text": [
            "Imputed missing values in 'workclass' with mode: 'Private'\n",
            "Imputed missing values in 'occupation' with mode: 'Prof-specialty'\n",
            "Imputed missing values in 'native-country' with mode: 'United-States'\n"
          ]
        }
      ],
      "source": [
        "for column in df.columns:\n",
        "    if df[column].isnull().any():\n",
        "        if df[column].dtype == 'object':  # Check if it's a categorical column\n",
        "            mode_val = df[column].mode()[0]\n",
        "            df[column].fillna(mode_val, inplace=True)\n",
        "            print(f\"Imputed missing values in '{column}' with mode: '{mode_val}'\")\n"
      ]
    },
    {
      "cell_type": "code",
      "execution_count": 7,
      "metadata": {
        "id": "iykplkC-Vpuq"
      },
      "outputs": [],
      "source": [
        "for col in df.select_dtypes(include='object').columns:\n",
        "    df[col] = df[col].str.strip()"
      ]
    },
    {
      "cell_type": "code",
      "execution_count": 8,
      "metadata": {
        "id": "5mJP5cfkVvEl"
      },
      "outputs": [],
      "source": [
        "X = df.drop('income', axis=1)\n",
        "y = df['income']"
      ]
    },
    {
      "cell_type": "code",
      "execution_count": 9,
      "metadata": {
        "colab": {
          "base_uri": "https://localhost:8080/"
        },
        "id": "sVp-UinHV0HR",
        "outputId": "963b4c57-9099-4236-e8a3-53c4d9d0a01a"
      },
      "outputs": [
        {
          "output_type": "stream",
          "name": "stdout",
          "text": [
            "\n",
            "Target variable mapping: ['<=50K', '>50K'] -> [0, 1]\n"
          ]
        }
      ],
      "source": [
        "le = LabelEncoder()\n",
        "y = le.fit_transform(y)  # <=50K -> 0, >50K -> 1\n",
        "print(f\"\\nTarget variable mapping: {list(le.classes_)} -> {list(range(len(le.classes_)))}\")\n"
      ]
    },
    {
      "cell_type": "code",
      "execution_count": 10,
      "metadata": {
        "id": "Fi78dREeV5gl"
      },
      "outputs": [],
      "source": [
        "categorical_features = X.select_dtypes(include='object').columns\n",
        "numerical_features = X.select_dtypes(include=['int64', 'float64']).columns\n"
      ]
    },
    {
      "cell_type": "code",
      "execution_count": 11,
      "metadata": {
        "id": "z_SuyXtJV-a6"
      },
      "outputs": [],
      "source": [
        "numerical_transformer = StandardScaler()\n",
        "categorical_transformer = OneHotEncoder(handle_unknown='ignore')\n"
      ]
    },
    {
      "cell_type": "code",
      "execution_count": 12,
      "metadata": {
        "id": "-wtmIQERWfDG"
      },
      "outputs": [],
      "source": [
        "preprocessor = ColumnTransformer(\n",
        "    transformers=[('num', numerical_transformer, numerical_features),\n",
        "        ('cat', categorical_transformer, categorical_features)])\n"
      ]
    },
    {
      "cell_type": "code",
      "execution_count": 13,
      "metadata": {
        "id": "H8Z4RHwPXLFw"
      },
      "outputs": [],
      "source": [
        "X_train, X_test, y_train, y_test = train_test_split(X, y, test_size=0.2, random_state=42, stratify=y)\n"
      ]
    },
    {
      "cell_type": "code",
      "execution_count": 14,
      "metadata": {
        "colab": {
          "base_uri": "https://localhost:8080/"
        },
        "id": "GRd-JGS6XRlc",
        "outputId": "4df8f6d0-f382-411b-b2e9-0e86c978025e"
      },
      "outputs": [
        {
          "output_type": "stream",
          "name": "stdout",
          "text": [
            "\n",
            "Training data shape: (39073, 14), (39073,)\n",
            "Testing data shape: (9769, 14), (9769,)\n"
          ]
        }
      ],
      "source": [
        "print(f\"\\nTraining data shape: {X_train.shape}, {y_train.shape}\")\n",
        "print(f\"Testing data shape: {X_test.shape}, {y_test.shape}\")\n"
      ]
    },
    {
      "cell_type": "code",
      "execution_count": 15,
      "metadata": {
        "id": "hIvLX6ZgXbW8"
      },
      "outputs": [],
      "source": [
        "models = {\n",
        "    'Logistic Regression': LogisticRegression(random_state=42, max_iter=1000),\n",
        "    'Random Forest': RandomForestClassifier(random_state=42),\n",
        "    'Gradient Boosting': GradientBoostingClassifier(random_state=42)}\n",
        "results = {}\n"
      ]
    },
    {
      "cell_type": "code",
      "execution_count": 16,
      "metadata": {
        "colab": {
          "base_uri": "https://localhost:8080/"
        },
        "id": "UwR0ei6MXlSi",
        "outputId": "1aaf1693-6452-4c2e-9c4e-a95ca8a9d258"
      },
      "outputs": [
        {
          "output_type": "stream",
          "name": "stdout",
          "text": [
            "\n",
            "--- Training and Evaluating Models ---\n",
            "\n",
            "Training Logistic Regression...\n",
            "\n",
            "Training Random Forest...\n",
            "\n",
            "Training Gradient Boosting...\n"
          ]
        }
      ],
      "source": [
        "print(\"\\n--- Training and Evaluating Models ---\")\n",
        "for name, model in models.items():\n",
        "    print(f\"\\nTraining {name}...\")\n",
        "    pipeline = Pipeline(steps=[('preprocessor', preprocessor),('classifier', model)])\n",
        "    pipeline.fit(X_train, y_train)\n",
        "    y_pred = pipeline.predict(X_test)\n",
        "    y_proba = pipeline.predict_proba(X_test)[:, 1]\n"
      ]
    },
    {
      "cell_type": "code",
      "execution_count": 17,
      "metadata": {
        "id": "YkWrhI6SYEd_"
      },
      "outputs": [],
      "source": [
        "    accuracy = accuracy_score(y_test, y_pred)\n",
        "    precision = precision_score(y_test, y_pred)\n",
        "    recall = recall_score(y_test, y_pred)\n",
        "    f1 = f1_score(y_test, y_pred)\n",
        "    roc_auc = roc_auc_score(y_test, y_proba)\n",
        "    results[name] = {\n",
        "        'Accuracy': accuracy,\n",
        "        'Precision': precision,\n",
        "        'Recall': recall,\n",
        "        'F1-Score': f1,\n",
        "        'ROC-AUC': roc_auc}\n"
      ]
    },
    {
      "cell_type": "code",
      "execution_count": 18,
      "metadata": {
        "colab": {
          "base_uri": "https://localhost:8080/"
        },
        "id": "vvKTioNBYh0C",
        "outputId": "ea240f19-9513-4c04-c847-bcedb39f51d3"
      },
      "outputs": [
        {
          "output_type": "stream",
          "name": "stdout",
          "text": [
            "Gradient Boosting Performance:\n",
            "  Accuracy: 0.8676\n",
            "  Precision: 0.7970\n",
            "  Recall: 0.5997\n",
            "  F1-Score: 0.6844\n",
            "  ROC-AUC: 0.9214\n",
            "  Classification Report:\n",
            "              precision    recall  f1-score   support\n",
            "\n",
            "       <=50K       0.88      0.95      0.92      7431\n",
            "        >50K       0.80      0.60      0.68      2338\n",
            "\n",
            "    accuracy                           0.87      9769\n",
            "   macro avg       0.84      0.78      0.80      9769\n",
            "weighted avg       0.86      0.87      0.86      9769\n",
            "\n",
            "  Confusion Matrix:\n",
            "[[7074  357]\n",
            " [ 936 1402]]\n"
          ]
        }
      ],
      "source": [
        "print(f\"{name} Performance:\")\n",
        "print(f\"  Accuracy: {accuracy:.4f}\")\n",
        "print(f\"  Precision: {precision:.4f}\")\n",
        "print(f\"  Recall: {recall:.4f}\")\n",
        "print(f\"  F1-Score: {f1:.4f}\")\n",
        "print(f\"  ROC-AUC: {roc_auc:.4f}\")\n",
        "print(\"  Classification Report:\")\n",
        "print(classification_report(y_test, y_pred, target_names=le.classes_))\n",
        "print(\"  Confusion Matrix:\")\n",
        "print(confusion_matrix(y_test, y_pred))\n"
      ]
    },
    {
      "cell_type": "code",
      "execution_count": 19,
      "metadata": {
        "colab": {
          "base_uri": "https://localhost:8080/"
        },
        "id": "7rEp7B1YYzML",
        "outputId": "6a4be536-0d74-4b5b-92a5-0949a52a836c"
      },
      "outputs": [
        {
          "output_type": "stream",
          "name": "stdout",
          "text": [
            "\n",
            "---Results ---\n",
            "                   Accuracy  Precision    Recall  F1-Score   ROC-AUC\n",
            "Gradient Boosting  0.867643   0.797044  0.599658  0.684403  0.921426\n"
          ]
        }
      ],
      "source": [
        "print(\"\\n---Results ---\")\n",
        "results_df = pd.DataFrame(results).T\n",
        "print(results_df)"
      ]
    },
    {
      "cell_type": "code",
      "execution_count": 20,
      "metadata": {
        "colab": {
          "base_uri": "https://localhost:8080/"
        },
        "id": "rK4MsKiFZDTM",
        "outputId": "69f64054-5b4b-4b3d-9c79-b4ce9a25a7f3"
      },
      "outputs": [
        {
          "output_type": "stream",
          "name": "stdout",
          "text": [
            "\n",
            "--- Hyperparameter Tuning for Random Forest ---\n"
          ]
        }
      ],
      "source": [
        "print(\"\\n--- Hyperparameter Tuning for Random Forest ---\")\n",
        "rf_pipeline = Pipeline(steps=[('preprocessor', preprocessor), ('classifier', RandomForestClassifier(random_state=42))])\n",
        "\n",
        "\n"
      ]
    },
    {
      "cell_type": "code",
      "execution_count": 21,
      "metadata": {
        "id": "x8x-Bl36jm7O"
      },
      "outputs": [],
      "source": [
        "param_grid_rf = {\n",
        "    'classifier__n_estimators': [100, 200],\n",
        "    'classifier__max_depth': [10, 20, None],\n",
        "    'classifier__min_samples_split': [2, 5],\n",
        "    'classifier__min_samples_leaf': [1, 2]}\n"
      ]
    },
    {
      "cell_type": "code",
      "execution_count": 22,
      "metadata": {
        "colab": {
          "base_uri": "https://localhost:8080/",
          "height": 295
        },
        "id": "iJZSOG3Mjp87",
        "outputId": "91507d4c-474f-4d6a-b763-5bf1e22030cb"
      },
      "outputs": [
        {
          "output_type": "stream",
          "name": "stdout",
          "text": [
            "Fitting 3 folds for each of 10 candidates, totalling 30 fits\n"
          ]
        },
        {
          "output_type": "execute_result",
          "data": {
            "text/plain": [
              "RandomizedSearchCV(cv=3,\n",
              "                   estimator=Pipeline(steps=[('preprocessor',\n",
              "                                              ColumnTransformer(transformers=[('num',\n",
              "                                                                               StandardScaler(),\n",
              "                                                                               Index(['age', 'fnlwgt', 'educational-num', 'capital-gain', 'capital-loss',\n",
              "       'hours-per-week'],\n",
              "      dtype='object')),\n",
              "                                                                              ('cat',\n",
              "                                                                               OneHotEncoder(handle_unknown='ignore'),\n",
              "                                                                               Index(['workclass', 'education', 'marital-status', 'occupation',\n",
              "       'relationship', 'race', 'gender', 'native-country'],\n",
              "      dtype='object'))])),\n",
              "                                             ('classifier',\n",
              "                                              RandomForestClassifier(random_state=42))]),\n",
              "                   n_jobs=-1,\n",
              "                   param_distributions={'classifier__max_depth': [10, 20, None],\n",
              "                                        'classifier__min_samples_leaf': [1, 2],\n",
              "                                        'classifier__min_samples_split': [2, 5],\n",
              "                                        'classifier__n_estimators': [100, 200]},\n",
              "                   random_state=42, scoring='roc_auc', verbose=1)"
            ],
            "text/html": [
              "<style>#sk-container-id-1 {\n",
              "  /* Definition of color scheme common for light and dark mode */\n",
              "  --sklearn-color-text: #000;\n",
              "  --sklearn-color-text-muted: #666;\n",
              "  --sklearn-color-line: gray;\n",
              "  /* Definition of color scheme for unfitted estimators */\n",
              "  --sklearn-color-unfitted-level-0: #fff5e6;\n",
              "  --sklearn-color-unfitted-level-1: #f6e4d2;\n",
              "  --sklearn-color-unfitted-level-2: #ffe0b3;\n",
              "  --sklearn-color-unfitted-level-3: chocolate;\n",
              "  /* Definition of color scheme for fitted estimators */\n",
              "  --sklearn-color-fitted-level-0: #f0f8ff;\n",
              "  --sklearn-color-fitted-level-1: #d4ebff;\n",
              "  --sklearn-color-fitted-level-2: #b3dbfd;\n",
              "  --sklearn-color-fitted-level-3: cornflowerblue;\n",
              "\n",
              "  /* Specific color for light theme */\n",
              "  --sklearn-color-text-on-default-background: var(--sg-text-color, var(--theme-code-foreground, var(--jp-content-font-color1, black)));\n",
              "  --sklearn-color-background: var(--sg-background-color, var(--theme-background, var(--jp-layout-color0, white)));\n",
              "  --sklearn-color-border-box: var(--sg-text-color, var(--theme-code-foreground, var(--jp-content-font-color1, black)));\n",
              "  --sklearn-color-icon: #696969;\n",
              "\n",
              "  @media (prefers-color-scheme: dark) {\n",
              "    /* Redefinition of color scheme for dark theme */\n",
              "    --sklearn-color-text-on-default-background: var(--sg-text-color, var(--theme-code-foreground, var(--jp-content-font-color1, white)));\n",
              "    --sklearn-color-background: var(--sg-background-color, var(--theme-background, var(--jp-layout-color0, #111)));\n",
              "    --sklearn-color-border-box: var(--sg-text-color, var(--theme-code-foreground, var(--jp-content-font-color1, white)));\n",
              "    --sklearn-color-icon: #878787;\n",
              "  }\n",
              "}\n",
              "\n",
              "#sk-container-id-1 {\n",
              "  color: var(--sklearn-color-text);\n",
              "}\n",
              "\n",
              "#sk-container-id-1 pre {\n",
              "  padding: 0;\n",
              "}\n",
              "\n",
              "#sk-container-id-1 input.sk-hidden--visually {\n",
              "  border: 0;\n",
              "  clip: rect(1px 1px 1px 1px);\n",
              "  clip: rect(1px, 1px, 1px, 1px);\n",
              "  height: 1px;\n",
              "  margin: -1px;\n",
              "  overflow: hidden;\n",
              "  padding: 0;\n",
              "  position: absolute;\n",
              "  width: 1px;\n",
              "}\n",
              "\n",
              "#sk-container-id-1 div.sk-dashed-wrapped {\n",
              "  border: 1px dashed var(--sklearn-color-line);\n",
              "  margin: 0 0.4em 0.5em 0.4em;\n",
              "  box-sizing: border-box;\n",
              "  padding-bottom: 0.4em;\n",
              "  background-color: var(--sklearn-color-background);\n",
              "}\n",
              "\n",
              "#sk-container-id-1 div.sk-container {\n",
              "  /* jupyter's `normalize.less` sets `[hidden] { display: none; }`\n",
              "     but bootstrap.min.css set `[hidden] { display: none !important; }`\n",
              "     so we also need the `!important` here to be able to override the\n",
              "     default hidden behavior on the sphinx rendered scikit-learn.org.\n",
              "     See: https://github.com/scikit-learn/scikit-learn/issues/21755 */\n",
              "  display: inline-block !important;\n",
              "  position: relative;\n",
              "}\n",
              "\n",
              "#sk-container-id-1 div.sk-text-repr-fallback {\n",
              "  display: none;\n",
              "}\n",
              "\n",
              "div.sk-parallel-item,\n",
              "div.sk-serial,\n",
              "div.sk-item {\n",
              "  /* draw centered vertical line to link estimators */\n",
              "  background-image: linear-gradient(var(--sklearn-color-text-on-default-background), var(--sklearn-color-text-on-default-background));\n",
              "  background-size: 2px 100%;\n",
              "  background-repeat: no-repeat;\n",
              "  background-position: center center;\n",
              "}\n",
              "\n",
              "/* Parallel-specific style estimator block */\n",
              "\n",
              "#sk-container-id-1 div.sk-parallel-item::after {\n",
              "  content: \"\";\n",
              "  width: 100%;\n",
              "  border-bottom: 2px solid var(--sklearn-color-text-on-default-background);\n",
              "  flex-grow: 1;\n",
              "}\n",
              "\n",
              "#sk-container-id-1 div.sk-parallel {\n",
              "  display: flex;\n",
              "  align-items: stretch;\n",
              "  justify-content: center;\n",
              "  background-color: var(--sklearn-color-background);\n",
              "  position: relative;\n",
              "}\n",
              "\n",
              "#sk-container-id-1 div.sk-parallel-item {\n",
              "  display: flex;\n",
              "  flex-direction: column;\n",
              "}\n",
              "\n",
              "#sk-container-id-1 div.sk-parallel-item:first-child::after {\n",
              "  align-self: flex-end;\n",
              "  width: 50%;\n",
              "}\n",
              "\n",
              "#sk-container-id-1 div.sk-parallel-item:last-child::after {\n",
              "  align-self: flex-start;\n",
              "  width: 50%;\n",
              "}\n",
              "\n",
              "#sk-container-id-1 div.sk-parallel-item:only-child::after {\n",
              "  width: 0;\n",
              "}\n",
              "\n",
              "/* Serial-specific style estimator block */\n",
              "\n",
              "#sk-container-id-1 div.sk-serial {\n",
              "  display: flex;\n",
              "  flex-direction: column;\n",
              "  align-items: center;\n",
              "  background-color: var(--sklearn-color-background);\n",
              "  padding-right: 1em;\n",
              "  padding-left: 1em;\n",
              "}\n",
              "\n",
              "\n",
              "/* Toggleable style: style used for estimator/Pipeline/ColumnTransformer box that is\n",
              "clickable and can be expanded/collapsed.\n",
              "- Pipeline and ColumnTransformer use this feature and define the default style\n",
              "- Estimators will overwrite some part of the style using the `sk-estimator` class\n",
              "*/\n",
              "\n",
              "/* Pipeline and ColumnTransformer style (default) */\n",
              "\n",
              "#sk-container-id-1 div.sk-toggleable {\n",
              "  /* Default theme specific background. It is overwritten whether we have a\n",
              "  specific estimator or a Pipeline/ColumnTransformer */\n",
              "  background-color: var(--sklearn-color-background);\n",
              "}\n",
              "\n",
              "/* Toggleable label */\n",
              "#sk-container-id-1 label.sk-toggleable__label {\n",
              "  cursor: pointer;\n",
              "  display: flex;\n",
              "  width: 100%;\n",
              "  margin-bottom: 0;\n",
              "  padding: 0.5em;\n",
              "  box-sizing: border-box;\n",
              "  text-align: center;\n",
              "  align-items: start;\n",
              "  justify-content: space-between;\n",
              "  gap: 0.5em;\n",
              "}\n",
              "\n",
              "#sk-container-id-1 label.sk-toggleable__label .caption {\n",
              "  font-size: 0.6rem;\n",
              "  font-weight: lighter;\n",
              "  color: var(--sklearn-color-text-muted);\n",
              "}\n",
              "\n",
              "#sk-container-id-1 label.sk-toggleable__label-arrow:before {\n",
              "  /* Arrow on the left of the label */\n",
              "  content: \"▸\";\n",
              "  float: left;\n",
              "  margin-right: 0.25em;\n",
              "  color: var(--sklearn-color-icon);\n",
              "}\n",
              "\n",
              "#sk-container-id-1 label.sk-toggleable__label-arrow:hover:before {\n",
              "  color: var(--sklearn-color-text);\n",
              "}\n",
              "\n",
              "/* Toggleable content - dropdown */\n",
              "\n",
              "#sk-container-id-1 div.sk-toggleable__content {\n",
              "  max-height: 0;\n",
              "  max-width: 0;\n",
              "  overflow: hidden;\n",
              "  text-align: left;\n",
              "  /* unfitted */\n",
              "  background-color: var(--sklearn-color-unfitted-level-0);\n",
              "}\n",
              "\n",
              "#sk-container-id-1 div.sk-toggleable__content.fitted {\n",
              "  /* fitted */\n",
              "  background-color: var(--sklearn-color-fitted-level-0);\n",
              "}\n",
              "\n",
              "#sk-container-id-1 div.sk-toggleable__content pre {\n",
              "  margin: 0.2em;\n",
              "  border-radius: 0.25em;\n",
              "  color: var(--sklearn-color-text);\n",
              "  /* unfitted */\n",
              "  background-color: var(--sklearn-color-unfitted-level-0);\n",
              "}\n",
              "\n",
              "#sk-container-id-1 div.sk-toggleable__content.fitted pre {\n",
              "  /* unfitted */\n",
              "  background-color: var(--sklearn-color-fitted-level-0);\n",
              "}\n",
              "\n",
              "#sk-container-id-1 input.sk-toggleable__control:checked~div.sk-toggleable__content {\n",
              "  /* Expand drop-down */\n",
              "  max-height: 200px;\n",
              "  max-width: 100%;\n",
              "  overflow: auto;\n",
              "}\n",
              "\n",
              "#sk-container-id-1 input.sk-toggleable__control:checked~label.sk-toggleable__label-arrow:before {\n",
              "  content: \"▾\";\n",
              "}\n",
              "\n",
              "/* Pipeline/ColumnTransformer-specific style */\n",
              "\n",
              "#sk-container-id-1 div.sk-label input.sk-toggleable__control:checked~label.sk-toggleable__label {\n",
              "  color: var(--sklearn-color-text);\n",
              "  background-color: var(--sklearn-color-unfitted-level-2);\n",
              "}\n",
              "\n",
              "#sk-container-id-1 div.sk-label.fitted input.sk-toggleable__control:checked~label.sk-toggleable__label {\n",
              "  background-color: var(--sklearn-color-fitted-level-2);\n",
              "}\n",
              "\n",
              "/* Estimator-specific style */\n",
              "\n",
              "/* Colorize estimator box */\n",
              "#sk-container-id-1 div.sk-estimator input.sk-toggleable__control:checked~label.sk-toggleable__label {\n",
              "  /* unfitted */\n",
              "  background-color: var(--sklearn-color-unfitted-level-2);\n",
              "}\n",
              "\n",
              "#sk-container-id-1 div.sk-estimator.fitted input.sk-toggleable__control:checked~label.sk-toggleable__label {\n",
              "  /* fitted */\n",
              "  background-color: var(--sklearn-color-fitted-level-2);\n",
              "}\n",
              "\n",
              "#sk-container-id-1 div.sk-label label.sk-toggleable__label,\n",
              "#sk-container-id-1 div.sk-label label {\n",
              "  /* The background is the default theme color */\n",
              "  color: var(--sklearn-color-text-on-default-background);\n",
              "}\n",
              "\n",
              "/* On hover, darken the color of the background */\n",
              "#sk-container-id-1 div.sk-label:hover label.sk-toggleable__label {\n",
              "  color: var(--sklearn-color-text);\n",
              "  background-color: var(--sklearn-color-unfitted-level-2);\n",
              "}\n",
              "\n",
              "/* Label box, darken color on hover, fitted */\n",
              "#sk-container-id-1 div.sk-label.fitted:hover label.sk-toggleable__label.fitted {\n",
              "  color: var(--sklearn-color-text);\n",
              "  background-color: var(--sklearn-color-fitted-level-2);\n",
              "}\n",
              "\n",
              "/* Estimator label */\n",
              "\n",
              "#sk-container-id-1 div.sk-label label {\n",
              "  font-family: monospace;\n",
              "  font-weight: bold;\n",
              "  display: inline-block;\n",
              "  line-height: 1.2em;\n",
              "}\n",
              "\n",
              "#sk-container-id-1 div.sk-label-container {\n",
              "  text-align: center;\n",
              "}\n",
              "\n",
              "/* Estimator-specific */\n",
              "#sk-container-id-1 div.sk-estimator {\n",
              "  font-family: monospace;\n",
              "  border: 1px dotted var(--sklearn-color-border-box);\n",
              "  border-radius: 0.25em;\n",
              "  box-sizing: border-box;\n",
              "  margin-bottom: 0.5em;\n",
              "  /* unfitted */\n",
              "  background-color: var(--sklearn-color-unfitted-level-0);\n",
              "}\n",
              "\n",
              "#sk-container-id-1 div.sk-estimator.fitted {\n",
              "  /* fitted */\n",
              "  background-color: var(--sklearn-color-fitted-level-0);\n",
              "}\n",
              "\n",
              "/* on hover */\n",
              "#sk-container-id-1 div.sk-estimator:hover {\n",
              "  /* unfitted */\n",
              "  background-color: var(--sklearn-color-unfitted-level-2);\n",
              "}\n",
              "\n",
              "#sk-container-id-1 div.sk-estimator.fitted:hover {\n",
              "  /* fitted */\n",
              "  background-color: var(--sklearn-color-fitted-level-2);\n",
              "}\n",
              "\n",
              "/* Specification for estimator info (e.g. \"i\" and \"?\") */\n",
              "\n",
              "/* Common style for \"i\" and \"?\" */\n",
              "\n",
              ".sk-estimator-doc-link,\n",
              "a:link.sk-estimator-doc-link,\n",
              "a:visited.sk-estimator-doc-link {\n",
              "  float: right;\n",
              "  font-size: smaller;\n",
              "  line-height: 1em;\n",
              "  font-family: monospace;\n",
              "  background-color: var(--sklearn-color-background);\n",
              "  border-radius: 1em;\n",
              "  height: 1em;\n",
              "  width: 1em;\n",
              "  text-decoration: none !important;\n",
              "  margin-left: 0.5em;\n",
              "  text-align: center;\n",
              "  /* unfitted */\n",
              "  border: var(--sklearn-color-unfitted-level-1) 1pt solid;\n",
              "  color: var(--sklearn-color-unfitted-level-1);\n",
              "}\n",
              "\n",
              ".sk-estimator-doc-link.fitted,\n",
              "a:link.sk-estimator-doc-link.fitted,\n",
              "a:visited.sk-estimator-doc-link.fitted {\n",
              "  /* fitted */\n",
              "  border: var(--sklearn-color-fitted-level-1) 1pt solid;\n",
              "  color: var(--sklearn-color-fitted-level-1);\n",
              "}\n",
              "\n",
              "/* On hover */\n",
              "div.sk-estimator:hover .sk-estimator-doc-link:hover,\n",
              ".sk-estimator-doc-link:hover,\n",
              "div.sk-label-container:hover .sk-estimator-doc-link:hover,\n",
              ".sk-estimator-doc-link:hover {\n",
              "  /* unfitted */\n",
              "  background-color: var(--sklearn-color-unfitted-level-3);\n",
              "  color: var(--sklearn-color-background);\n",
              "  text-decoration: none;\n",
              "}\n",
              "\n",
              "div.sk-estimator.fitted:hover .sk-estimator-doc-link.fitted:hover,\n",
              ".sk-estimator-doc-link.fitted:hover,\n",
              "div.sk-label-container:hover .sk-estimator-doc-link.fitted:hover,\n",
              ".sk-estimator-doc-link.fitted:hover {\n",
              "  /* fitted */\n",
              "  background-color: var(--sklearn-color-fitted-level-3);\n",
              "  color: var(--sklearn-color-background);\n",
              "  text-decoration: none;\n",
              "}\n",
              "\n",
              "/* Span, style for the box shown on hovering the info icon */\n",
              ".sk-estimator-doc-link span {\n",
              "  display: none;\n",
              "  z-index: 9999;\n",
              "  position: relative;\n",
              "  font-weight: normal;\n",
              "  right: .2ex;\n",
              "  padding: .5ex;\n",
              "  margin: .5ex;\n",
              "  width: min-content;\n",
              "  min-width: 20ex;\n",
              "  max-width: 50ex;\n",
              "  color: var(--sklearn-color-text);\n",
              "  box-shadow: 2pt 2pt 4pt #999;\n",
              "  /* unfitted */\n",
              "  background: var(--sklearn-color-unfitted-level-0);\n",
              "  border: .5pt solid var(--sklearn-color-unfitted-level-3);\n",
              "}\n",
              "\n",
              ".sk-estimator-doc-link.fitted span {\n",
              "  /* fitted */\n",
              "  background: var(--sklearn-color-fitted-level-0);\n",
              "  border: var(--sklearn-color-fitted-level-3);\n",
              "}\n",
              "\n",
              ".sk-estimator-doc-link:hover span {\n",
              "  display: block;\n",
              "}\n",
              "\n",
              "/* \"?\"-specific style due to the `<a>` HTML tag */\n",
              "\n",
              "#sk-container-id-1 a.estimator_doc_link {\n",
              "  float: right;\n",
              "  font-size: 1rem;\n",
              "  line-height: 1em;\n",
              "  font-family: monospace;\n",
              "  background-color: var(--sklearn-color-background);\n",
              "  border-radius: 1rem;\n",
              "  height: 1rem;\n",
              "  width: 1rem;\n",
              "  text-decoration: none;\n",
              "  /* unfitted */\n",
              "  color: var(--sklearn-color-unfitted-level-1);\n",
              "  border: var(--sklearn-color-unfitted-level-1) 1pt solid;\n",
              "}\n",
              "\n",
              "#sk-container-id-1 a.estimator_doc_link.fitted {\n",
              "  /* fitted */\n",
              "  border: var(--sklearn-color-fitted-level-1) 1pt solid;\n",
              "  color: var(--sklearn-color-fitted-level-1);\n",
              "}\n",
              "\n",
              "/* On hover */\n",
              "#sk-container-id-1 a.estimator_doc_link:hover {\n",
              "  /* unfitted */\n",
              "  background-color: var(--sklearn-color-unfitted-level-3);\n",
              "  color: var(--sklearn-color-background);\n",
              "  text-decoration: none;\n",
              "}\n",
              "\n",
              "#sk-container-id-1 a.estimator_doc_link.fitted:hover {\n",
              "  /* fitted */\n",
              "  background-color: var(--sklearn-color-fitted-level-3);\n",
              "}\n",
              "</style><div id=\"sk-container-id-1\" class=\"sk-top-container\"><div class=\"sk-text-repr-fallback\"><pre>RandomizedSearchCV(cv=3,\n",
              "                   estimator=Pipeline(steps=[(&#x27;preprocessor&#x27;,\n",
              "                                              ColumnTransformer(transformers=[(&#x27;num&#x27;,\n",
              "                                                                               StandardScaler(),\n",
              "                                                                               Index([&#x27;age&#x27;, &#x27;fnlwgt&#x27;, &#x27;educational-num&#x27;, &#x27;capital-gain&#x27;, &#x27;capital-loss&#x27;,\n",
              "       &#x27;hours-per-week&#x27;],\n",
              "      dtype=&#x27;object&#x27;)),\n",
              "                                                                              (&#x27;cat&#x27;,\n",
              "                                                                               OneHotEncoder(handle_unknown=&#x27;ignore&#x27;),\n",
              "                                                                               Index([&#x27;workclass&#x27;, &#x27;education&#x27;, &#x27;marital-status&#x27;, &#x27;occupation&#x27;,\n",
              "       &#x27;relationship&#x27;, &#x27;race&#x27;, &#x27;gender&#x27;, &#x27;native-country&#x27;],\n",
              "      dtype=&#x27;object&#x27;))])),\n",
              "                                             (&#x27;classifier&#x27;,\n",
              "                                              RandomForestClassifier(random_state=42))]),\n",
              "                   n_jobs=-1,\n",
              "                   param_distributions={&#x27;classifier__max_depth&#x27;: [10, 20, None],\n",
              "                                        &#x27;classifier__min_samples_leaf&#x27;: [1, 2],\n",
              "                                        &#x27;classifier__min_samples_split&#x27;: [2, 5],\n",
              "                                        &#x27;classifier__n_estimators&#x27;: [100, 200]},\n",
              "                   random_state=42, scoring=&#x27;roc_auc&#x27;, verbose=1)</pre><b>In a Jupyter environment, please rerun this cell to show the HTML representation or trust the notebook. <br />On GitHub, the HTML representation is unable to render, please try loading this page with nbviewer.org.</b></div><div class=\"sk-container\" hidden><div class=\"sk-item sk-dashed-wrapped\"><div class=\"sk-label-container\"><div class=\"sk-label fitted sk-toggleable\"><input class=\"sk-toggleable__control sk-hidden--visually\" id=\"sk-estimator-id-1\" type=\"checkbox\" ><label for=\"sk-estimator-id-1\" class=\"sk-toggleable__label fitted sk-toggleable__label-arrow\"><div><div>RandomizedSearchCV</div></div><div><a class=\"sk-estimator-doc-link fitted\" rel=\"noreferrer\" target=\"_blank\" href=\"https://scikit-learn.org/1.6/modules/generated/sklearn.model_selection.RandomizedSearchCV.html\">?<span>Documentation for RandomizedSearchCV</span></a><span class=\"sk-estimator-doc-link fitted\">i<span>Fitted</span></span></div></label><div class=\"sk-toggleable__content fitted\"><pre>RandomizedSearchCV(cv=3,\n",
              "                   estimator=Pipeline(steps=[(&#x27;preprocessor&#x27;,\n",
              "                                              ColumnTransformer(transformers=[(&#x27;num&#x27;,\n",
              "                                                                               StandardScaler(),\n",
              "                                                                               Index([&#x27;age&#x27;, &#x27;fnlwgt&#x27;, &#x27;educational-num&#x27;, &#x27;capital-gain&#x27;, &#x27;capital-loss&#x27;,\n",
              "       &#x27;hours-per-week&#x27;],\n",
              "      dtype=&#x27;object&#x27;)),\n",
              "                                                                              (&#x27;cat&#x27;,\n",
              "                                                                               OneHotEncoder(handle_unknown=&#x27;ignore&#x27;),\n",
              "                                                                               Index([&#x27;workclass&#x27;, &#x27;education&#x27;, &#x27;marital-status&#x27;, &#x27;occupation&#x27;,\n",
              "       &#x27;relationship&#x27;, &#x27;race&#x27;, &#x27;gender&#x27;, &#x27;native-country&#x27;],\n",
              "      dtype=&#x27;object&#x27;))])),\n",
              "                                             (&#x27;classifier&#x27;,\n",
              "                                              RandomForestClassifier(random_state=42))]),\n",
              "                   n_jobs=-1,\n",
              "                   param_distributions={&#x27;classifier__max_depth&#x27;: [10, 20, None],\n",
              "                                        &#x27;classifier__min_samples_leaf&#x27;: [1, 2],\n",
              "                                        &#x27;classifier__min_samples_split&#x27;: [2, 5],\n",
              "                                        &#x27;classifier__n_estimators&#x27;: [100, 200]},\n",
              "                   random_state=42, scoring=&#x27;roc_auc&#x27;, verbose=1)</pre></div> </div></div><div class=\"sk-parallel\"><div class=\"sk-parallel-item\"><div class=\"sk-item\"><div class=\"sk-label-container\"><div class=\"sk-label fitted sk-toggleable\"><input class=\"sk-toggleable__control sk-hidden--visually\" id=\"sk-estimator-id-2\" type=\"checkbox\" ><label for=\"sk-estimator-id-2\" class=\"sk-toggleable__label fitted sk-toggleable__label-arrow\"><div><div>best_estimator_: Pipeline</div></div></label><div class=\"sk-toggleable__content fitted\"><pre>Pipeline(steps=[(&#x27;preprocessor&#x27;,\n",
              "                 ColumnTransformer(transformers=[(&#x27;num&#x27;, StandardScaler(),\n",
              "                                                  Index([&#x27;age&#x27;, &#x27;fnlwgt&#x27;, &#x27;educational-num&#x27;, &#x27;capital-gain&#x27;, &#x27;capital-loss&#x27;,\n",
              "       &#x27;hours-per-week&#x27;],\n",
              "      dtype=&#x27;object&#x27;)),\n",
              "                                                 (&#x27;cat&#x27;,\n",
              "                                                  OneHotEncoder(handle_unknown=&#x27;ignore&#x27;),\n",
              "                                                  Index([&#x27;workclass&#x27;, &#x27;education&#x27;, &#x27;marital-status&#x27;, &#x27;occupation&#x27;,\n",
              "       &#x27;relationship&#x27;, &#x27;race&#x27;, &#x27;gender&#x27;, &#x27;native-country&#x27;],\n",
              "      dtype=&#x27;object&#x27;))])),\n",
              "                (&#x27;classifier&#x27;,\n",
              "                 RandomForestClassifier(max_depth=20, min_samples_leaf=2,\n",
              "                                        n_estimators=200, random_state=42))])</pre></div> </div></div><div class=\"sk-serial\"><div class=\"sk-item\"><div class=\"sk-serial\"><div class=\"sk-item sk-dashed-wrapped\"><div class=\"sk-label-container\"><div class=\"sk-label fitted sk-toggleable\"><input class=\"sk-toggleable__control sk-hidden--visually\" id=\"sk-estimator-id-3\" type=\"checkbox\" ><label for=\"sk-estimator-id-3\" class=\"sk-toggleable__label fitted sk-toggleable__label-arrow\"><div><div>preprocessor: ColumnTransformer</div></div><div><a class=\"sk-estimator-doc-link fitted\" rel=\"noreferrer\" target=\"_blank\" href=\"https://scikit-learn.org/1.6/modules/generated/sklearn.compose.ColumnTransformer.html\">?<span>Documentation for preprocessor: ColumnTransformer</span></a></div></label><div class=\"sk-toggleable__content fitted\"><pre>ColumnTransformer(transformers=[(&#x27;num&#x27;, StandardScaler(),\n",
              "                                 Index([&#x27;age&#x27;, &#x27;fnlwgt&#x27;, &#x27;educational-num&#x27;, &#x27;capital-gain&#x27;, &#x27;capital-loss&#x27;,\n",
              "       &#x27;hours-per-week&#x27;],\n",
              "      dtype=&#x27;object&#x27;)),\n",
              "                                (&#x27;cat&#x27;, OneHotEncoder(handle_unknown=&#x27;ignore&#x27;),\n",
              "                                 Index([&#x27;workclass&#x27;, &#x27;education&#x27;, &#x27;marital-status&#x27;, &#x27;occupation&#x27;,\n",
              "       &#x27;relationship&#x27;, &#x27;race&#x27;, &#x27;gender&#x27;, &#x27;native-country&#x27;],\n",
              "      dtype=&#x27;object&#x27;))])</pre></div> </div></div><div class=\"sk-parallel\"><div class=\"sk-parallel-item\"><div class=\"sk-item\"><div class=\"sk-label-container\"><div class=\"sk-label fitted sk-toggleable\"><input class=\"sk-toggleable__control sk-hidden--visually\" id=\"sk-estimator-id-4\" type=\"checkbox\" ><label for=\"sk-estimator-id-4\" class=\"sk-toggleable__label fitted sk-toggleable__label-arrow\"><div><div>num</div></div></label><div class=\"sk-toggleable__content fitted\"><pre>Index([&#x27;age&#x27;, &#x27;fnlwgt&#x27;, &#x27;educational-num&#x27;, &#x27;capital-gain&#x27;, &#x27;capital-loss&#x27;,\n",
              "       &#x27;hours-per-week&#x27;],\n",
              "      dtype=&#x27;object&#x27;)</pre></div> </div></div><div class=\"sk-serial\"><div class=\"sk-item\"><div class=\"sk-estimator fitted sk-toggleable\"><input class=\"sk-toggleable__control sk-hidden--visually\" id=\"sk-estimator-id-5\" type=\"checkbox\" ><label for=\"sk-estimator-id-5\" class=\"sk-toggleable__label fitted sk-toggleable__label-arrow\"><div><div>StandardScaler</div></div><div><a class=\"sk-estimator-doc-link fitted\" rel=\"noreferrer\" target=\"_blank\" href=\"https://scikit-learn.org/1.6/modules/generated/sklearn.preprocessing.StandardScaler.html\">?<span>Documentation for StandardScaler</span></a></div></label><div class=\"sk-toggleable__content fitted\"><pre>StandardScaler()</pre></div> </div></div></div></div></div><div class=\"sk-parallel-item\"><div class=\"sk-item\"><div class=\"sk-label-container\"><div class=\"sk-label fitted sk-toggleable\"><input class=\"sk-toggleable__control sk-hidden--visually\" id=\"sk-estimator-id-6\" type=\"checkbox\" ><label for=\"sk-estimator-id-6\" class=\"sk-toggleable__label fitted sk-toggleable__label-arrow\"><div><div>cat</div></div></label><div class=\"sk-toggleable__content fitted\"><pre>Index([&#x27;workclass&#x27;, &#x27;education&#x27;, &#x27;marital-status&#x27;, &#x27;occupation&#x27;,\n",
              "       &#x27;relationship&#x27;, &#x27;race&#x27;, &#x27;gender&#x27;, &#x27;native-country&#x27;],\n",
              "      dtype=&#x27;object&#x27;)</pre></div> </div></div><div class=\"sk-serial\"><div class=\"sk-item\"><div class=\"sk-estimator fitted sk-toggleable\"><input class=\"sk-toggleable__control sk-hidden--visually\" id=\"sk-estimator-id-7\" type=\"checkbox\" ><label for=\"sk-estimator-id-7\" class=\"sk-toggleable__label fitted sk-toggleable__label-arrow\"><div><div>OneHotEncoder</div></div><div><a class=\"sk-estimator-doc-link fitted\" rel=\"noreferrer\" target=\"_blank\" href=\"https://scikit-learn.org/1.6/modules/generated/sklearn.preprocessing.OneHotEncoder.html\">?<span>Documentation for OneHotEncoder</span></a></div></label><div class=\"sk-toggleable__content fitted\"><pre>OneHotEncoder(handle_unknown=&#x27;ignore&#x27;)</pre></div> </div></div></div></div></div></div></div><div class=\"sk-item\"><div class=\"sk-estimator fitted sk-toggleable\"><input class=\"sk-toggleable__control sk-hidden--visually\" id=\"sk-estimator-id-8\" type=\"checkbox\" ><label for=\"sk-estimator-id-8\" class=\"sk-toggleable__label fitted sk-toggleable__label-arrow\"><div><div>RandomForestClassifier</div></div><div><a class=\"sk-estimator-doc-link fitted\" rel=\"noreferrer\" target=\"_blank\" href=\"https://scikit-learn.org/1.6/modules/generated/sklearn.ensemble.RandomForestClassifier.html\">?<span>Documentation for RandomForestClassifier</span></a></div></label><div class=\"sk-toggleable__content fitted\"><pre>RandomForestClassifier(max_depth=20, min_samples_leaf=2, n_estimators=200,\n",
              "                       random_state=42)</pre></div> </div></div></div></div></div></div></div></div></div></div></div>"
            ]
          },
          "metadata": {},
          "execution_count": 22
        }
      ],
      "source": [
        "from sklearn.model_selection import RandomizedSearchCV\n",
        "\n",
        "# Use RandomizedSearchCV\n",
        "grid_search_rf = RandomizedSearchCV(rf_pipeline, param_grid_rf, cv=3, n_jobs=-1, verbose=1, scoring='roc_auc', n_iter=10, random_state=42)\n",
        "grid_search_rf.fit(X_train, y_train)"
      ]
    },
    {
      "cell_type": "code",
      "execution_count": 23,
      "metadata": {
        "colab": {
          "base_uri": "https://localhost:8080/"
        },
        "id": "FHXJ0-fInimU",
        "outputId": "1f1734ab-c665-4ea0-a651-a6f6a095abe5"
      },
      "outputs": [
        {
          "output_type": "stream",
          "name": "stdout",
          "text": [
            "\n",
            "Best parameters for Random Forest: {'classifier__n_estimators': 200, 'classifier__min_samples_split': 2, 'classifier__min_samples_leaf': 2, 'classifier__max_depth': 20}\n",
            "Best ROC-AUC score for Random Forest: 0.9163\n"
          ]
        }
      ],
      "source": [
        "print(f\"\\nBest parameters for Random Forest: {grid_search_rf.best_params_}\")\n",
        "print(f\"Best ROC-AUC score for Random Forest: {grid_search_rf.best_score_:.4f}\")"
      ]
    },
    {
      "cell_type": "code",
      "execution_count": 24,
      "metadata": {
        "id": "WGDS9EGXnnoj"
      },
      "outputs": [],
      "source": [
        "best_rf_model = grid_search_rf.best_estimator_\n",
        "y_pred_rf_tuned = best_rf_model.predict(X_test)\n",
        "y_proba_rf_tuned = best_rf_model.predict_proba(X_test)[:, 1]\n"
      ]
    },
    {
      "cell_type": "code",
      "execution_count": 25,
      "metadata": {
        "colab": {
          "base_uri": "https://localhost:8080/"
        },
        "id": "O0HYfn5On5Z0",
        "outputId": "30962489-e745-438b-ea78-38a3aa8f09b2"
      },
      "outputs": [
        {
          "output_type": "stream",
          "name": "stdout",
          "text": [
            "\n",
            "--- Tuned Random Forest Performance on Test Set ---\n",
            "  Accuracy: 0.8658\n",
            "  Precision: 0.7991\n",
            "  Recall: 0.5868\n",
            "  F1-Score: 0.6767\n",
            "  ROC-AUC: 0.9179\n",
            "  Classification Report:\n",
            "              precision    recall  f1-score   support\n",
            "\n",
            "       <=50K       0.88      0.95      0.92      7431\n",
            "        >50K       0.80      0.59      0.68      2338\n",
            "\n",
            "    accuracy                           0.87      9769\n",
            "   macro avg       0.84      0.77      0.80      9769\n",
            "weighted avg       0.86      0.87      0.86      9769\n",
            "\n",
            "  Confusion Matrix:\n",
            "[[7086  345]\n",
            " [ 966 1372]]\n"
          ]
        }
      ],
      "source": [
        "print(\"\\n--- Tuned Random Forest Performance on Test Set ---\")\n",
        "print(f\"  Accuracy: {accuracy_score(y_test, y_pred_rf_tuned):.4f}\")\n",
        "print(f\"  Precision: {precision_score(y_test, y_pred_rf_tuned):.4f}\")\n",
        "print(f\"  Recall: {recall_score(y_test, y_pred_rf_tuned):.4f}\")\n",
        "print(f\"  F1-Score: {f1_score(y_test, y_pred_rf_tuned):.4f}\")\n",
        "print(f\"  ROC-AUC: {roc_auc_score(y_test, y_proba_rf_tuned):.4f}\")\n",
        "print(\"  Classification Report:\")\n",
        "print(classification_report(y_test, y_pred_rf_tuned, target_names=le.classes_))\n",
        "print(\"  Confusion Matrix:\")\n",
        "print(confusion_matrix(y_test, y_pred_rf_tuned))\n"
      ]
    },
    {
      "cell_type": "code",
      "execution_count": 26,
      "metadata": {
        "colab": {
          "base_uri": "https://localhost:8080/"
        },
        "id": "CPJ4GKG0n_uw",
        "outputId": "e8225ba6-7b41-47fe-92ad-cd90a0f58066"
      },
      "outputs": [
        {
          "output_type": "stream",
          "name": "stdout",
          "text": [
            "\n",
            "--- Feature Importance from Tuned Random Forest ---\n"
          ]
        }
      ],
      "source": [
        "print(\"\\n--- Feature Importance from Tuned Random Forest ---\")\n",
        "preprocessor.fit(X_train)\n",
        "ohe_feature_names = preprocessor.named_transformers_['cat'].get_feature_names_out(categorical_features)\n",
        "all_feature_names = list(numerical_features) + list(ohe_feature_names)\n",
        "\n"
      ]
    },
    {
      "cell_type": "code",
      "execution_count": 27,
      "metadata": {
        "id": "FREpRRwRoIF7"
      },
      "outputs": [],
      "source": [
        "importances = best_rf_model.named_steps['classifier'].feature_importances_\n"
      ]
    },
    {
      "cell_type": "code",
      "execution_count": 28,
      "metadata": {
        "id": "9id94vueoWS1"
      },
      "outputs": [],
      "source": [
        "feature_importances = pd.Series(importances, index=all_feature_names)\n",
        "feature_importances = feature_importances.sort_values(ascending=False)"
      ]
    },
    {
      "cell_type": "code",
      "execution_count": 29,
      "metadata": {
        "colab": {
          "base_uri": "https://localhost:8080/"
        },
        "id": "eY9pa-iuoaaB",
        "outputId": "278d227b-514c-48a7-a543-e2a2dcad0018"
      },
      "outputs": [
        {
          "output_type": "stream",
          "name": "stdout",
          "text": [
            "capital-gain                         0.152063\n",
            "marital-status_Married-civ-spouse    0.109125\n",
            "educational-num                      0.100438\n",
            "relationship_Husband                 0.089603\n",
            "age                                  0.075630\n",
            "hours-per-week                       0.055280\n",
            "marital-status_Never-married         0.047663\n",
            "capital-loss                         0.044387\n",
            "fnlwgt                               0.034629\n",
            "occupation_Exec-managerial           0.027030\n",
            "education_Bachelors                  0.019835\n",
            "relationship_Wife                    0.018881\n",
            "relationship_Not-in-family           0.016854\n",
            "education_Masters                    0.014748\n",
            "gender_Male                          0.014482\n",
            "dtype: float64\n"
          ]
        }
      ],
      "source": [
        "print(feature_importances.head(15))"
      ]
    },
    {
      "cell_type": "code",
      "execution_count": 30,
      "metadata": {
        "colab": {
          "base_uri": "https://localhost:8080/",
          "height": 747
        },
        "id": "ltRSKZY7ogyY",
        "outputId": "04651ad7-4d81-4bc1-ac37-64cfa12e4a77"
      },
      "outputs": [
        {
          "output_type": "display_data",
          "data": {
            "text/plain": [
              "<Figure size 1200x800 with 1 Axes>"
            ],
            "image/png": "[encoded data removed]"
          },
          "metadata": {}
        }
      ],
      "source": [
        "plt.figure(figsize=(12, 8))\n",
        "sns.barplot(x=feature_importances.head(15).values, y=feature_importances.head(15).index)\n",
        "plt.title('Top 15 Feature Importances (Tuned Random Forest)')\n",
        "plt.xlabel('Importance')\n",
        "plt.ylabel('Feature Name')\n",
        "plt.tight_layout()\n",
        "plt.show()\n"
      ]
    },
    {
      "cell_type": "code",
      "execution_count": 31,
      "metadata": {
        "colab": {
          "base_uri": "https://localhost:8080/"
        },
        "id": "_UYXqrjlowoV",
        "outputId": "0ce546f0-4c26-4d20-d1ee-2eb67795577e"
      },
      "outputs": [
        {
          "output_type": "stream",
          "name": "stdout",
          "text": [
            " The models predict income based on the provided features.\n",
            "The tuned Random Forest model generally performs well, and feature importance helps understand key drivers.\n"
          ]
        }
      ],
      "source": [
        "print(\" The models predict income based on the provided features.\")\n",
        "print(\"The tuned Random Forest model generally performs well, and feature importance helps understand key drivers.\")\n"
      ]
    },
    {
      "cell_type": "code",
      "execution_count": 32,
      "metadata": {
        "id": "WvWrYo2-sHD4"
      },
      "outputs": [],
      "source": [
        "models = {\n",
        "    'Linear Regression': LinearRegression(),\n",
        "    'Decision Tree': DecisionTreeRegressor(),\n",
        "    'Random Forest': RandomForestRegressor(n_estimators=100, random_state=42),\n",
        "    'Gradient Boosting': GradientBoostingRegressor(n_estimators=100, random_state=42),\n",
        "    'Support Vector Regressor': SVR(),\n",
        "    'K-Nearest Neighbors': KNeighborsRegressor()\n",
        "}\n",
        "# Store results\n",
        "results = {}"
      ]
    },
    {
      "cell_type": "code",
      "execution_count": 33,
      "metadata": {
        "colab": {
          "base_uri": "https://localhost:8080/"
        },
        "id": "swIy6fghsnCk",
        "outputId": "71397173-d4a2-4fc3-9548-67e76ae4be77"
      },
      "outputs": [
        {
          "output_type": "stream",
          "name": "stdout",
          "text": [
            "Linear Regression - MAE: 0.2640, MSE: 0.1168, R²: 0.3583\n",
            "Decision Tree - MAE: 0.1818, MSE: 0.1818, R²: 0.0014\n",
            "Random Forest - MAE: 0.1852, MSE: 0.0996, R²: 0.4532\n",
            "Gradient Boosting - MAE: 0.2051, MSE: 0.0945, R²: 0.4810\n",
            "Support Vector Regressor - MAE: 0.1910, MSE: 0.1083, R²: 0.4048\n",
            "K-Nearest Neighbors - MAE: 0.2034, MSE: 0.1209, R²: 0.3358\n"
          ]
        }
      ],
      "source": [
        "for model_name, model in models.items():\n",
        "    # Create a pipeline with the preprocessor and the model\n",
        "    pipeline = Pipeline(steps=[('preprocessor', preprocessor), ('regressor', model)])\n",
        "\n",
        "    # Fit the pipeline\n",
        "    pipeline.fit(X_train, y_train)\n",
        "\n",
        "    # Make predictions\n",
        "    predictions = pipeline.predict(X_test)\n",
        "\n",
        "    # Evaluate the model\n",
        "    mae = mean_absolute_error(y_test, predictions)\n",
        "    mse = mean_squared_error(y_test, predictions)\n",
        "    r2 = r2_score(y_test, predictions)\n",
        "\n",
        "    results[model_name] = {\n",
        "        'MAE': mae,\n",
        "        'MSE': mse,\n",
        "        'R²': r2\n",
        "    }\n",
        "    print(f'{model_name} - MAE: {mae:.4f}, MSE: {mse:.4f}, R²: {r2:.4f}')"
      ]
    },
    {
      "cell_type": "code",
      "execution_count": 34,
      "metadata": {
        "colab": {
          "base_uri": "https://localhost:8080/"
        },
        "id": "f61e8d40",
        "outputId": "432115a7-3cea-4747-8910-f0b2f882cd60"
      },
      "outputs": [
        {
          "output_type": "stream",
          "name": "stdout",
          "text": [
            "                               MAE       MSE        R²\n",
            "Linear Regression         0.264031  0.116822  0.358298\n",
            "Decision Tree             0.181800  0.181800  0.001378\n",
            "Random Forest             0.185168  0.099552  0.453164\n",
            "Gradient Boosting         0.205063  0.094476  0.481046\n",
            "Support Vector Regressor  0.191002  0.108348  0.404846\n",
            "K-Nearest Neighbors       0.203358  0.120925  0.335759\n"
          ]
        }
      ],
      "source": [
        "results_df = pd.DataFrame(results).T\n",
        "print(results_df)"
      ]
    },
    {
      "cell_type": "code",
      "execution_count": 35,
      "metadata": {
        "colab": {
          "base_uri": "https://localhost:8080/",
          "height": 666
        },
        "id": "258f1266",
        "outputId": "1e7f35b5-1f16-45c2-8d8f-fd0248660ec2"
      },
      "outputs": [
        {
          "output_type": "display_data",
          "data": {
            "text/plain": [
              "<Figure size 1000x600 with 1 Axes>"
            ],
            "image/png": "[encoded data removed]"
          },
          "metadata": {}
        }
      ],
      "source": [
        "results_df = pd.DataFrame(results).T\n",
        "results_df.plot(kind='bar', figsize=(10, 6))\n",
        "plt.title('Model Performance Comparison')\n",
        "plt.ylabel('Error Metrics')\n",
        "plt.xticks(rotation=45)\n",
        "plt.show()"
      ]
    },
    {
      "cell_type": "code",
      "execution_count": 36,
      "metadata": {
        "colab": {
          "base_uri": "https://localhost:8080/"
        },
        "id": "j0m2aDR6wjbb",
        "outputId": "102620f0-51c2-43f7-dcba-bed89b90ea82"
      },
      "outputs": [
        {
          "output_type": "stream",
          "name": "stdout",
          "text": [
            "\n",
            "Project completed. The models predict income based on the provided features.\n",
            "Gradient Boosting is the best model based on the lowest MSE and the highest R² value.\n"
          ]
        }
      ],
      "source": [
        "print(\"\\nProject completed. The models predict income based on the provided features.\")\n",
        "print(\"Gradient Boosting is the best model based on the lowest MSE and the highest R² value.\")\n"
      ]
    },
    {
      "cell_type": "code",
      "execution_count": 37,
      "metadata": {
        "colab": {
          "base_uri": "https://localhost:8080/"
        },
        "id": "QgSiaVxhUnKH",
        "outputId": "1464d94c-5f9d-4da6-dbb1-04472952bbfb"
      },
      "outputs": [
        {
          "output_type": "stream",
          "name": "stdout",
          "text": [
            "\n",
            "--- Training and Evaluating Models ---\n",
            "\n",
            "Training LogisticRegression...\n",
            "LogisticRegression: 0.8565\n",
            "\n",
            "Training RandomForest...\n",
            "RandomForest: 0.8609\n",
            "\n",
            "Training KNN...\n",
            "KNN: 0.8411\n",
            "\n",
            "Training SVM...\n",
            "SVM: 0.8606\n",
            "\n",
            "Training GradientBoosting...\n",
            "GradientBoosting: 0.8722\n",
            "\n",
            "Best model: GradientBoosting with accuracy 0.8722\n",
            "Saved best model as best_model.pkl, preprocessor as preprocessor.pkl, and label encoder as label_encoder.pkl\n"
          ]
        }
      ],
      "source": [
        "from sklearn.linear_model import LogisticRegression\n",
        "from sklearn.ensemble import RandomForestClassifier, GradientBoostingClassifier\n",
        "from sklearn.neighbors import KNeighborsClassifier\n",
        "from sklearn.svm import SVC\n",
        "from sklearn.model_selection import train_test_split\n",
        "from sklearn.metrics import accuracy_score\n",
        "import joblib\n",
        "from sklearn.pipeline import Pipeline\n",
        "\n",
        "# Train-test split\n",
        "X_train, X_test, y_train, y_test = train_test_split(X, y, test_size=0.2, random_state=42)\n",
        "\n",
        "models = {\n",
        "    \"LogisticRegression\": LogisticRegression(max_iter=1000),\n",
        "    \"RandomForest\": RandomForestClassifier(),\n",
        "    \"KNN\": KNeighborsClassifier(),\n",
        "    \"SVM\": SVC(probability=True), # Added probability=True for consistent predict_proba\n",
        "    \"GradientBoosting\": GradientBoostingClassifier()\n",
        "}\n",
        "\n",
        "results = {}\n",
        "\n",
        "# Train and evaluate\n",
        "print(\"\\n--- Training and Evaluating Models ---\")\n",
        "for name, model in models.items():\n",
        "    print(f\"\\nTraining {name}...\")\n",
        "    # Create a pipeline with the preprocessor and the model\n",
        "    pipeline = Pipeline(steps=[('preprocessor', preprocessor), ('classifier', model)])\n",
        "\n",
        "    # Fit the pipeline\n",
        "    pipeline.fit(X_train, y_train)\n",
        "\n",
        "    # Make predictions\n",
        "    preds = pipeline.predict(X_test)\n",
        "    acc = accuracy_score(y_test, preds)\n",
        "    results[name] = acc\n",
        "    print(f\"{name}: {acc:.4f}\")\n",
        "\n",
        "# Get best model\n",
        "best_model_name = max(results, key=results.get)\n",
        "best_model = models[best_model_name]\n",
        "print(f\"\\nBest model: {best_model_name} with accuracy {results[best_model_name]:.4f}\")\n",
        "\n",
        "# Save the best model and preprocessor\n",
        "joblib.dump(best_model, \"best_model.pkl\")\n",
        "joblib.dump(preprocessor, \"preprocessor.pkl\")\n",
        "joblib.dump(le, \"label_encoder.pkl\") # Save label encoder as well\n",
        "print(\"Saved best model as best_model.pkl, preprocessor as preprocessor.pkl, and label encoder as label_encoder.pkl\")\n"
      ]
    },
    {
      "cell_type": "code",
      "execution_count": 38,
      "metadata": {
        "colab": {
          "base_uri": "https://localhost:8080/"
        },
        "id": "909886bd",
        "outputId": "a5dd8f23-6c9e-457b-9474-5ff0fb22a274"
      },
      "outputs": [
        {
          "output_type": "stream",
          "name": "stdout",
          "text": [
            "Collecting streamlit\n",
            "  Downloading streamlit-1.47.0-py3-none-any.whl.metadata (9.0 kB)\n",
            "Requirement already satisfied: altair<6,>=4.0 in /usr/local/lib/python3.11/dist-packages (from streamlit) (5.5.0)\n",
            "Requirement already satisfied: blinker<2,>=1.5.0 in /usr/local/lib/python3.11/dist-packages (from streamlit) (1.9.0)\n",
            "Requirement already satisfied: cachetools<7,>=4.0 in /usr/local/lib/python3.11/dist-packages (from streamlit) (5.5.2)\n",
            "Requirement already satisfied: click<9,>=7.0 in /usr/local/lib/python3.11/dist-packages (from streamlit) (8.2.1)\n",
            "Requirement already satisfied: numpy<3,>=1.23 in /usr/local/lib/python3.11/dist-packages (from streamlit) (2.0.2)\n",
            "Requirement already satisfied: packaging<26,>=20 in /usr/local/lib/python3.11/dist-packages (from streamlit) (25.0)\n",
            "Requirement already satisfied: pandas<3,>=1.4.0 in /usr/local/lib/python3.11/dist-packages (from streamlit) (2.2.2)\n",
            "Requirement already satisfied: pillow<12,>=7.1.0 in /usr/local/lib/python3.11/dist-packages (from streamlit) (11.2.1)\n",
            "Requirement already satisfied: protobuf<7,>=3.20 in /usr/local/lib/python3.11/dist-packages (from streamlit) (5.29.5)\n",
            "Requirement already satisfied: pyarrow>=7.0 in /usr/local/lib/python3.11/dist-packages (from streamlit) (18.1.0)\n",
            "Requirement already satisfied: requests<3,>=2.27 in /usr/local/lib/python3.11/dist-packages (from streamlit) (2.32.3)\n",
            "Requirement already satisfied: tenacity<10,>=8.1.0 in /usr/local/lib/python3.11/dist-packages (from streamlit) (8.5.0)\n",
            "Requirement already satisfied: toml<2,>=0.10.1 in /usr/local/lib/python3.11/dist-packages (from streamlit) (0.10.2)\n",
            "Requirement already satisfied: typing-extensions<5,>=4.4.0 in /usr/local/lib/python3.11/dist-packages (from streamlit) (4.14.1)\n",
            "Collecting watchdog<7,>=2.1.5 (from streamlit)\n",
            "  Downloading watchdog-6.0.0-py3-none-manylinux2014_x86_64.whl.metadata (44 kB)\n",
            "\u001b[2K     \u001b[90m━━━━━━━━━━━━━━━━━━━━━━━━━━━━━━━━━━━━━━━━\u001b[0m \u001b[32m44.3/44.3 kB\u001b[0m \u001b[31m1.6 MB/s\u001b[0m eta \u001b[36m0:00:00\u001b[0m\n",
            "\u001b[?25hRequirement already satisfied: gitpython!=3.1.19,<4,>=3.0.7 in /usr/local/lib/python3.11/dist-packages (from streamlit) (3.1.44)\n",
            "Collecting pydeck<1,>=0.8.0b4 (from streamlit)\n",
            "  Downloading pydeck-0.9.1-py2.py3-none-any.whl.metadata (4.1 kB)\n",
            "Requirement already satisfied: tornado!=6.5.0,<7,>=6.0.3 in /usr/local/lib/python3.11/dist-packages (from streamlit) (6.4.2)\n",
            "Requirement already satisfied: jinja2 in /usr/local/lib/python3.11/dist-packages (from altair<6,>=4.0->streamlit) (3.1.6)\n",
            "Requirement already satisfied: jsonschema>=3.0 in /usr/local/lib/python3.11/dist-packages (from altair<6,>=4.0->streamlit) (4.24.0)\n",
            "Requirement already satisfied: narwhals>=1.14.2 in /usr/local/lib/python3.11/dist-packages (from altair<6,>=4.0->streamlit) (1.47.0)\n",
            "Requirement already satisfied: gitdb<5,>=4.0.1 in /usr/local/lib/python3.11/dist-packages (from gitpython!=3.1.19,<4,>=3.0.7->streamlit) (4.0.12)\n",
            "Requirement already satisfied: python-dateutil>=2.8.2 in /usr/local/lib/python3.11/dist-packages (from pandas<3,>=1.4.0->streamlit) (2.9.0.post0)\n",
            "Requirement already satisfied: pytz>=2020.1 in /usr/local/lib/python3.11/dist-packages (from pandas<3,>=1.4.0->streamlit) (2025.2)\n",
            "Requirement already satisfied: tzdata>=2022.7 in /usr/local/lib/python3.11/dist-packages (from pandas<3,>=1.4.0->streamlit) (2025.2)\n",
            "Requirement already satisfied: charset-normalizer<4,>=2 in /usr/local/lib/python3.11/dist-packages (from requests<3,>=2.27->streamlit) (3.4.2)\n",
            "Requirement already satisfied: idna<4,>=2.5 in /usr/local/lib/python3.11/dist-packages (from requests<3,>=2.27->streamlit) (3.10)\n",
            "Requirement already satisfied: urllib3<3,>=1.21.1 in /usr/local/lib/python3.11/dist-packages (from requests<3,>=2.27->streamlit) (2.4.0)\n",
            "Requirement already satisfied: certifi>=2017.4.17 in /usr/local/lib/python3.11/dist-packages (from requests<3,>=2.27->streamlit) (2025.7.14)\n",
            "Requirement already satisfied: smmap<6,>=3.0.1 in /usr/local/lib/python3.11/dist-packages (from gitdb<5,>=4.0.1->gitpython!=3.1.19,<4,>=3.0.7->streamlit) (5.0.2)\n",
            "Requirement already satisfied: MarkupSafe>=2.0 in /usr/local/lib/python3.11/dist-packages (from jinja2->altair<6,>=4.0->streamlit) (3.0.2)\n",
            "Requirement already satisfied: attrs>=22.2.0 in /usr/local/lib/python3.11/dist-packages (from jsonschema>=3.0->altair<6,>=4.0->streamlit) (25.3.0)\n",
            "Requirement already satisfied: jsonschema-specifications>=2023.03.6 in /usr/local/lib/python3.11/dist-packages (from jsonschema>=3.0->altair<6,>=4.0->streamlit) (2025.4.1)\n",
            "Requirement already satisfied: referencing>=0.28.4 in /usr/local/lib/python3.11/dist-packages (from jsonschema>=3.0->altair<6,>=4.0->streamlit) (0.36.2)\n",
            "Requirement already satisfied: rpds-py>=0.7.1 in /usr/local/lib/python3.11/dist-packages (from jsonschema>=3.0->altair<6,>=4.0->streamlit) (0.26.0)\n",
            "Requirement already satisfied: six>=1.5 in /usr/local/lib/python3.11/dist-packages (from python-dateutil>=2.8.2->pandas<3,>=1.4.0->streamlit) (1.17.0)\n",
            "Downloading streamlit-1.47.0-py3-none-any.whl (9.9 MB)\n",
            "\u001b[2K   \u001b[90m━━━━━━━━━━━━━━━━━━━━━━━━━━━━━━━━━━━━━━━━\u001b[0m \u001b[32m9.9/9.9 MB\u001b[0m \u001b[31m79.6 MB/s\u001b[0m eta \u001b[36m0:00:00\u001b[0m\n",
            "\u001b[?25hDownloading pydeck-0.9.1-py2.py3-none-any.whl (6.9 MB)\n",
            "\u001b[2K   \u001b[90m━━━━━━━━━━━━━━━━━━━━━━━━━━━━━━━━━━━━━━━━\u001b[0m \u001b[32m6.9/6.9 MB\u001b[0m \u001b[31m89.5 MB/s\u001b[0m eta \u001b[36m0:00:00\u001b[0m\n",
            "\u001b[?25hDownloading watchdog-6.0.0-py3-none-manylinux2014_x86_64.whl (79 kB)\n",
            "\u001b[2K   \u001b[90m━━━━━━━━━━━━━━━━━━━━━━━━━━━━━━━━━━━━━━━━\u001b[0m \u001b[32m79.1/79.1 kB\u001b[0m \u001b[31m6.0 MB/s\u001b[0m eta \u001b[36m0:00:00\u001b[0m\n",
            "\u001b[?25hInstalling collected packages: watchdog, pydeck, streamlit\n",
            "Successfully installed pydeck-0.9.1 streamlit-1.47.0 watchdog-6.0.0\n"
          ]
        }
      ],
      "source": [
        "!pip install streamlit"
      ]
    },
    {
      "cell_type": "code",
      "execution_count": 39,
      "metadata": {
        "colab": {
          "base_uri": "https://localhost:8080/"
        },
        "id": "wnkQVwJqihYY",
        "outputId": "e1b1c3da-a244-4aad-aebe-6000097d1685"
      },
      "outputs": [
        {
          "output_type": "stream",
          "name": "stdout",
          "text": [
            "Writing app.py\n"
          ]
        }
      ],
      "source": [
        "%%writefile app.py\n",
        "import streamlit as st\n",
        "import pandas as pd\n",
        "import joblib\n",
        "import numpy as np\n",
        "from sklearn.compose import ColumnTransformer\n",
        "from sklearn.pipeline import Pipeline\n",
        "from sklearn.preprocessing import StandardScaler, OneHotEncoder, LabelEncoder\n",
        "\n",
        "# --- Configuration and Model Loading ---\n",
        "st.set_page_config(page_title=\"Employee Salary Prediction\", layout=\"centered\")\n",
        "\n",
        "# Load the preprocessor, the trained model, and the label encoder\n",
        "try:\n",
        "    # Ensure these files exist after running the training and saving cells\n",
        "    preprocessor = joblib.load('preprocessor.pkl')\n",
        "    model = joblib.load('best_model.pkl') # Updated to load 'best_model.pkl'\n",
        "    label_encoder = joblib.load('label_encoder.pkl')\n",
        "except FileNotFoundError:\n",
        "    st.error(\"Error: Model or preprocessor files not found. Please ensure 'preprocessor.pkl', 'best_model.pkl', and 'label_encoder.pkl' are in the same directory as this script.\")\n",
        "    st.stop() # Stop the app if files are not found\n",
        "\n",
        "st.title(\"💰 Employee Salary Prediction\")\n",
        "st.markdown(\"\"\"\n",
        "    This application predicts whether an employee's income is **<=50K** or **>50K**\n",
        "    based on various demographic and employment features.\n",
        "    Input the details below and click 'Predict Income' to see the result.\n",
        "\"\"\")\n",
        "\n",
        "st.sidebar.header(\"Input Features\")\n",
        "\n",
        "# --- Define Options for Categorical Features ---\n",
        "# These options are derived from inspecting the unique values in the original dataset\n",
        "# or from the one-hot encoder's categories if available.\n",
        "# It's crucial these lists match the data the model was trained on.\n",
        "workclass_options = ['Private', 'Self-emp-not-inc', 'Local-gov', 'State-gov', 'Self-emp-inc', 'Federal-gov', 'Without-pay', 'Never-worked']\n",
        "education_options = ['HS-grad', 'Some-college', 'Bachelors', 'Masters', 'Assoc-voc', '11th', 'Assoc-acdm', '10th', '7th-8th', 'Prof-school', '9th', '12th', 'Doctorate', '5th-6th', '1st-4th', 'Preschool']\n",
        "marital_status_options = ['Married-civ-spouse', 'Never-married', 'Divorced', 'Separated', 'Widowed', 'Married-spouse-absent', 'Married-AF-spouse']\n",
        "occupation_options = ['Prof-specialty', 'Craft-repair', 'Exec-managerial', 'Adm-clerical', 'Sales', 'Other-service', 'Machine-op-inspct', 'Transport-moving', 'Handlers-cleaners', 'Farming-fishing', 'Tech-support', 'Protective-serv', 'Priv-house-serv', 'Armed-Forces']\n",
        "relationship_options = ['Husband', 'Not-in-family', 'Own-child', 'Unmarried', 'Wife', 'Other-relative']\n",
        "race_options = ['White', 'Black', 'Asian-Pac-Islander', 'Amer-Indian-Eskimo', 'Other']\n",
        "gender_options = ['Male', 'Female']\n",
        "native_country_options = [\n",
        "    'United-States', 'Mexico', 'Philippines', 'Germany', 'Puerto-Rico', 'Canada', 'El-Salvador', 'India', 'Cuba',\n",
        "    'England', 'Jamaica', 'South', 'China', 'Italy', 'Dominican-Republic', 'Vietnam', 'Guatemala', 'Columbia',\n",
        "    'Poland', 'Japan', 'Iran', 'Taiwan', 'Haiti', 'Portugal', 'Nicaragua', 'Peru', 'Greece', 'France', 'Ecuador',\n",
        "    'Ireland', 'Hong', 'Trinadad&Tobago', 'Cambodia', 'Laos', 'Thailand', 'Yugoslavia', 'Outlying-US(Guam-USVI-etc)',\n",
        "    'Hungary', 'Honduras', 'Scotland', 'Holand-Netherlands'\n",
        "]\n",
        "\n",
        "# --- Input Fields in Sidebar ---\n",
        "age = st.sidebar.slider(\"Age\", 17, 90, 30)\n",
        "workclass = st.sidebar.selectbox(\"Workclass\", workclass_options)\n",
        "fnlwgt = st.sidebar.number_input(\"Fnlwgt (Final Weight)\", min_value=10000, max_value=1500000, value=200000, step=1000)\n",
        "education = st.sidebar.selectbox(\"Education\", education_options)\n",
        "educational_num = st.sidebar.slider(\"Educational Num\", 1, 16, 10)\n",
        "marital_status = st.sidebar.selectbox(\"Marital Status\", marital_status_options)\n",
        "occupation = st.sidebar.selectbox(\"Occupation\", occupation_options)\n",
        "relationship = st.sidebar.selectbox(\"Relationship\", relationship_options)\n",
        "race = st.sidebar.selectbox(\"Race\", race_options)\n",
        "gender = st.sidebar.selectbox(\"Gender\", gender_options)\n",
        "capital_gain = st.sidebar.number_input(\"Capital Gain\", min_value=0, max_value=100000, value=0, step=100)\n",
        "capital_loss = st.sidebar.number_input(\"Capital Loss\", min_value=0, max_value=5000, value=0, step=10)\n",
        "hours_per_week = st.sidebar.slider(\"Hours per Week\", 1, 99, 40)\n",
        "native_country = st.sidebar.selectbox(\"Native Country\", native_country_options)\n",
        "\n",
        "# --- Create DataFrame from User Inputs ---\n",
        "# Ensure column names match the original training data and are in the correct order\n",
        "input_data = pd.DataFrame([{\n",
        "    'age': age,\n",
        "    'workclass': workclass,\n",
        "    'fnlwgt': fnlwgt,\n",
        "    'education': education,\n",
        "    'educational-num': educational_num,\n",
        "    'marital-status': marital_status,\n",
        "    'occupation': occupation,\n",
        "    'relationship': relationship,\n",
        "    'race': race,\n",
        "    'gender': gender,\n",
        "    'capital-gain': capital_gain,\n",
        "    'capital-loss': capital_loss,\n",
        "    'hours-per-week': hours_per_week,\n",
        "    'native-country': native_country\n",
        "}])\n",
        "\n",
        "st.subheader(\"User Input Summary:\")\n",
        "st.dataframe(input_data) # Use st.dataframe for better display of single row\n",
        "\n",
        "# --- Prediction Logic ---\n",
        "if st.button(\"Predict Income\"):\n",
        "    try:\n",
        "        # Apply the preprocessor to the input data\n",
        "        # The preprocessor handles scaling numerical features and one-hot encoding categorical features\n",
        "        input_data_processed = preprocessor.transform(input_data)\n",
        "\n",
        "        # Now predict using the processed data\n",
        "        prediction_encoded = model.predict(input_data_processed)[0]\n",
        "        prediction_proba = model.predict_proba(input_data_processed)[0]\n",
        "\n",
        "        # Decode the prediction using the loaded LabelEncoder\n",
        "        predicted_income_label = label_encoder.inverse_transform([prediction_encoded])[0]\n",
        "\n",
        "        st.subheader(\"Prediction Results:\")\n",
        "        st.success(f\"The predicted income is: **{predicted_income_label}**\")\n",
        "\n",
        "        st.write(\"---\")\n",
        "        st.subheader(\"Prediction Probabilities:\")\n",
        "        # Display probabilities for each class\n",
        "        class_names = label_encoder.classes_ # e.g., ['<=50K', '>50K']\n",
        "        proba_df = pd.DataFrame({\n",
        "            'Income Class': class_names,\n",
        "            'Probability': prediction_proba\n",
        "        })\n",
        "        st.dataframe(proba_df)\n",
        "\n",
        "        st.markdown(f\"\"\"\n",
        "            <div style=\"background-color:rgb(0, 0, 255);padding:10px;border-radius:5px;margin-top:20px;\">\n",
        "                <p style=\"font-size:18px;font-weight:bold;\">\n",
        "                    The model estimates a probability of\n",
        "                    <span style=\"color:green;\">{prediction_proba[1]:.2%}</span> for income **>50K** and\n",
        "                    <span style=\"color:red;\">{prediction_proba[0]:.2%}</span> for income **<=50K**.\n",
        "                </p>\n",
        "            </div>\n",
        "        \"\"\", unsafe_allow_html=True)\n",
        "\n",
        "    except Exception as e:\n",
        "        st.error(f\"An unexpected error occurred during prediction: {e}\")\n",
        "        st.info(\"Please verify your input values and ensure the model files are correctly loaded.\")\n",
        "\n",
        "st.markdown(\"---\")\n",
        "st.markdown(\"Developed by Rahul Dey\")"
      ]
    },
    {
      "cell_type": "code",
      "execution_count": 40,
      "metadata": {
        "colab": {
          "base_uri": "https://localhost:8080/"
        },
        "id": "iBp8BqEFZBXs",
        "outputId": "e152cf04-2709-4674-9ddb-74286fbb3f3f"
      },
      "outputs": [
        {
          "output_type": "stream",
          "name": "stdout",
          "text": [
            "Requirement already satisfied: streamlit in /usr/local/lib/python3.11/dist-packages (1.47.0)\n",
            "Collecting pyngrok\n",
            "  Downloading pyngrok-7.2.12-py3-none-any.whl.metadata (9.4 kB)\n",
            "Requirement already satisfied: altair<6,>=4.0 in /usr/local/lib/python3.11/dist-packages (from streamlit) (5.5.0)\n",
            "Requirement already satisfied: blinker<2,>=1.5.0 in /usr/local/lib/python3.11/dist-packages (from streamlit) (1.9.0)\n",
            "Requirement already satisfied: cachetools<7,>=4.0 in /usr/local/lib/python3.11/dist-packages (from streamlit) (5.5.2)\n",
            "Requirement already satisfied: click<9,>=7.0 in /usr/local/lib/python3.11/dist-packages (from streamlit) (8.2.1)\n",
            "Requirement already satisfied: numpy<3,>=1.23 in /usr/local/lib/python3.11/dist-packages (from streamlit) (2.0.2)\n",
            "Requirement already satisfied: packaging<26,>=20 in /usr/local/lib/python3.11/dist-packages (from streamlit) (25.0)\n",
            "Requirement already satisfied: pandas<3,>=1.4.0 in /usr/local/lib/python3.11/dist-packages (from streamlit) (2.2.2)\n",
            "Requirement already satisfied: pillow<12,>=7.1.0 in /usr/local/lib/python3.11/dist-packages (from streamlit) (11.2.1)\n",
            "Requirement already satisfied: protobuf<7,>=3.20 in /usr/local/lib/python3.11/dist-packages (from streamlit) (5.29.5)\n",
            "Requirement already satisfied: pyarrow>=7.0 in /usr/local/lib/python3.11/dist-packages (from streamlit) (18.1.0)\n",
            "Requirement already satisfied: requests<3,>=2.27 in /usr/local/lib/python3.11/dist-packages (from streamlit) (2.32.3)\n",
            "Requirement already satisfied: tenacity<10,>=8.1.0 in /usr/local/lib/python3.11/dist-packages (from streamlit) (8.5.0)\n",
            "Requirement already satisfied: toml<2,>=0.10.1 in /usr/local/lib/python3.11/dist-packages (from streamlit) (0.10.2)\n",
            "Requirement already satisfied: typing-extensions<5,>=4.4.0 in /usr/local/lib/python3.11/dist-packages (from streamlit) (4.14.1)\n",
            "Requirement already satisfied: watchdog<7,>=2.1.5 in /usr/local/lib/python3.11/dist-packages (from streamlit) (6.0.0)\n",
            "Requirement already satisfied: gitpython!=3.1.19,<4,>=3.0.7 in /usr/local/lib/python3.11/dist-packages (from streamlit) (3.1.44)\n",
            "Requirement already satisfied: pydeck<1,>=0.8.0b4 in /usr/local/lib/python3.11/dist-packages (from streamlit) (0.9.1)\n",
            "Requirement already satisfied: tornado!=6.5.0,<7,>=6.0.3 in /usr/local/lib/python3.11/dist-packages (from streamlit) (6.4.2)\n",
            "Requirement already satisfied: PyYAML>=5.1 in /usr/local/lib/python3.11/dist-packages (from pyngrok) (6.0.2)\n",
            "Requirement already satisfied: jinja2 in /usr/local/lib/python3.11/dist-packages (from altair<6,>=4.0->streamlit) (3.1.6)\n",
            "Requirement already satisfied: jsonschema>=3.0 in /usr/local/lib/python3.11/dist-packages (from altair<6,>=4.0->streamlit) (4.24.0)\n",
            "Requirement already satisfied: narwhals>=1.14.2 in /usr/local/lib/python3.11/dist-packages (from altair<6,>=4.0->streamlit) (1.47.0)\n",
            "Requirement already satisfied: gitdb<5,>=4.0.1 in /usr/local/lib/python3.11/dist-packages (from gitpython!=3.1.19,<4,>=3.0.7->streamlit) (4.0.12)\n",
            "Requirement already satisfied: python-dateutil>=2.8.2 in /usr/local/lib/python3.11/dist-packages (from pandas<3,>=1.4.0->streamlit) (2.9.0.post0)\n",
            "Requirement already satisfied: pytz>=2020.1 in /usr/local/lib/python3.11/dist-packages (from pandas<3,>=1.4.0->streamlit) (2025.2)\n",
            "Requirement already satisfied: tzdata>=2022.7 in /usr/local/lib/python3.11/dist-packages (from pandas<3,>=1.4.0->streamlit) (2025.2)\n",
            "Requirement already satisfied: charset-normalizer<4,>=2 in /usr/local/lib/python3.11/dist-packages (from requests<3,>=2.27->streamlit) (3.4.2)\n",
            "Requirement already satisfied: idna<4,>=2.5 in /usr/local/lib/python3.11/dist-packages (from requests<3,>=2.27->streamlit) (3.10)\n",
            "Requirement already satisfied: urllib3<3,>=1.21.1 in /usr/local/lib/python3.11/dist-packages (from requests<3,>=2.27->streamlit) (2.4.0)\n",
            "Requirement already satisfied: certifi>=2017.4.17 in /usr/local/lib/python3.11/dist-packages (from requests<3,>=2.27->streamlit) (2025.7.14)\n",
            "Requirement already satisfied: smmap<6,>=3.0.1 in /usr/local/lib/python3.11/dist-packages (from gitdb<5,>=4.0.1->gitpython!=3.1.19,<4,>=3.0.7->streamlit) (5.0.2)\n",
            "Requirement already satisfied: MarkupSafe>=2.0 in /usr/local/lib/python3.11/dist-packages (from jinja2->altair<6,>=4.0->streamlit) (3.0.2)\n",
            "Requirement already satisfied: attrs>=22.2.0 in /usr/local/lib/python3.11/dist-packages (from jsonschema>=3.0->altair<6,>=4.0->streamlit) (25.3.0)\n",
            "Requirement already satisfied: jsonschema-specifications>=2023.03.6 in /usr/local/lib/python3.11/dist-packages (from jsonschema>=3.0->altair<6,>=4.0->streamlit) (2025.4.1)\n",
            "Requirement already satisfied: referencing>=0.28.4 in /usr/local/lib/python3.11/dist-packages (from jsonschema>=3.0->altair<6,>=4.0->streamlit) (0.36.2)\n",
            "Requirement already satisfied: rpds-py>=0.7.1 in /usr/local/lib/python3.11/dist-packages (from jsonschema>=3.0->altair<6,>=4.0->streamlit) (0.26.0)\n",
            "Requirement already satisfied: six>=1.5 in /usr/local/lib/python3.11/dist-packages (from python-dateutil>=2.8.2->pandas<3,>=1.4.0->streamlit) (1.17.0)\n",
            "Downloading pyngrok-7.2.12-py3-none-any.whl (26 kB)\n",
            "Installing collected packages: pyngrok\n",
            "Successfully installed pyngrok-7.2.12\n"
          ]
        }
      ],
      "source": [
        "!pip install streamlit pyngrok"
      ]
    },
    {
      "cell_type": "code",
      "execution_count": 41,
      "metadata": {
        "colab": {
          "base_uri": "https://localhost:8080/"
        },
        "id": "4MiE6gCnZuEH",
        "outputId": "d1e954ba-c802-4112-f2d9-7c6db4c73e92"
      },
      "outputs": [
        {
          "output_type": "stream",
          "name": "stdout",
          "text": [
            "Authtoken saved to configuration file: /root/.config/ngrok/ngrok.yml\n"
          ]
        }
      ],
      "source": [
        "!ngrok authtoken 306V7Ixvm362rbayi84ENrkvejN_7i5itWhJMBbWZv22RiVzF"
      ]
    },
    {
      "cell_type": "code",
      "execution_count": 42,
      "metadata": {
        "id": "Vp4uyV4laW6g"
      },
      "outputs": [],
      "source": [
        "import os\n",
        "import threading\n",
        "\n",
        "def run_streamlit():\n",
        "    os.system('streamlit run app.py --server.port 8502')\n",
        "\n",
        "thread = threading.Thread(target=run_streamlit)\n",
        "thread.start()"
      ]
    },
    {
      "cell_type": "code",
      "execution_count": 43,
      "metadata": {
        "colab": {
          "base_uri": "https://localhost:8080/"
        },
        "id": "2zvL-SUHdZm7",
        "outputId": "d4935ad8-e7c0-45f4-9108-af6e7ff6dbe1"
      },
      "outputs": [
        {
          "output_type": "stream",
          "name": "stdout",
          "text": [
            "Your Streamlit app is live here: NgrokTunnel: \"https://478f0eff06e1.ngrok-free.app\" -> \"http://localhost:8502\"\n"
          ]
        }
      ],
      "source": [
        "from pyngrok import ngrok\n",
        "import time\n",
        "\n",
        "# Wait a few seconds to make sure Streamlit started\n",
        "time.sleep(5)\n",
        "\n",
        "# Create a tunnel to the Streamlit port 8502\n",
        "public_url = ngrok.connect(8502)\n",
        "print(\"Your Streamlit app is live here:\", public_url)"
      ]
    }
  ],
  "metadata": {
    "colab": {
      "provenance": [],
      "authorship_tag": "ABX9TyNhfG7+JhBIMqY7Y8NLlhzl",
      "include_colab_link": true
    },
    "kernelspec": {
      "display_name": "Python 3",
      "name": "python3"
    },
    "language_info": {
      "name": "python"
    }
  },
  "nbformat": 4,
  "nbformat_minor": 0
}